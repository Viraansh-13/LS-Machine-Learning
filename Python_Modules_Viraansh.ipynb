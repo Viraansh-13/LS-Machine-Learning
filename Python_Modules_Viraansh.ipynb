{
  "nbformat": 4,
  "nbformat_minor": 0,
  "metadata": {
    "colab": {
      "provenance": [],
      "toc_visible": true
    },
    "kernelspec": {
      "name": "python3",
      "display_name": "Python 3"
    },
    "language_info": {
      "name": "python"
    }
  },
  "cells": [
    {
      "cell_type": "markdown",
      "source": [
        "# Numpy Implementation"
      ],
      "metadata": {
        "id": "nKMH5Y1T06vH"
      }
    },
    {
      "cell_type": "code",
      "execution_count": null,
      "metadata": {
        "colab": {
          "base_uri": "https://localhost:8080/"
        },
        "id": "MM8X0T-p06HB",
        "outputId": "b23e422c-90af-40cb-e2da-38da1f750a40"
      },
      "outputs": [
        {
          "output_type": "stream",
          "name": "stdout",
          "text": [
            "Passed\n"
          ]
        }
      ],
      "source": [
        "import numpy as np\n",
        "# Create a 2D Numpy array of size 1x3 with elements of your choice\n",
        "arr1=np.array([[1,2,3]])\n",
        "\n",
        "# # Create a Numpy array of length 50 with zeroes as its elements\n",
        "arr2 = np.zeros(50)\n",
        "\n",
        "# #Create a Numpy array of length 3x2 with elements of your choice\n",
        "arr3 = np.array([[1,2],[3,4],[5,6]])\n",
        "\n",
        "# arr4=#Multiply arr1 and arr3 using Numpy functions\n",
        "arr4 = np.dot(arr1,arr3)\n",
        "\n",
        "# #Change 5th element of arr2 to a different number\n",
        "arr2[4] = 5\n",
        "\n",
        "if np.shape(arr4)==(1,2) and arr2[4]!=0:\n",
        "  print(\"Passed\")\n",
        "else:\n",
        "  print(\"Fail\")"
      ]
    },
    {
      "cell_type": "code",
      "source": [
        "import numpy as np\n",
        "\n",
        "#Task: Perform the dot product of I and 9I+1 using numpy, here I is referred to as an 3x3 Identity matrix.\n",
        "\n",
        "I = np.identity(3)\n",
        "arr5 = I*9 + 1\n",
        "print(arr5)\n"
      ],
      "metadata": {
        "id": "KNTXZFd13rgE",
        "colab": {
          "base_uri": "https://localhost:8080/"
        },
        "outputId": "490f46ed-3918-431a-d556-eae810c94614"
      },
      "execution_count": null,
      "outputs": [
        {
          "output_type": "stream",
          "name": "stdout",
          "text": [
            "[[10.  1.  1.]\n",
            " [ 1. 10.  1.]\n",
            " [ 1.  1. 10.]]\n"
          ]
        }
      ]
    },
    {
      "cell_type": "markdown",
      "source": [
        "# Pandas Implementation"
      ],
      "metadata": {
        "id": "rRrOxN-6FXAb"
      }
    },
    {
      "cell_type": "code",
      "source": [
        "import pandas as pd\n",
        "\n",
        "## Create a DataFrame from a dictionary\n",
        "data = {\n",
        "    'Name': ['Ramesh', 'Mahesh', 'Suresh'],\n",
        "    'Age': [25, 30, 35],\n",
        "    'City': ['Bangalore', 'Mumbai', 'Delhi']\n",
        "}\n",
        "#Your code here\n",
        "df = pd.DataFrame(data)\n",
        "\n",
        "#Display the first 2 rows of the data frame\n",
        "#Your code here\n",
        "# print(df.iloc[:-1,:])\n",
        "\n",
        "#Print the age column\n",
        "#Your code here\n",
        "# print(df.iloc[:,1])\n",
        "\n",
        "#Filter rows where age is greater than 26\n",
        "#Your code here\n",
        "# for i in range(0,3):\n",
        "#   if int(df.iloc[i,1]) > 26:\n",
        "#     print(df.iloc[i,:])\n",
        "\n",
        "\n",
        "\n",
        "#Add a new column 'Country' with the value 'India' for all rows\n",
        "#Your code here\n",
        "\n",
        "country = ['India', 'India', 'India']\n",
        "df['Country'] = country\n",
        "print(df)\n",
        "data1 = {\n",
        "    'Name': ['Ramesh', 'Mahesh', 'Suresh'],\n",
        "    'Age': [25, None, 35],\n",
        "    'City': ['Bangalore', 'Mumbai', 'Delhi']\n",
        "}\n",
        "\n",
        "df2= pd.DataFrame(data1)\n",
        "\n",
        "# Fill missing values in the 'Age' column with the mean age\n",
        "#Your code here\n",
        "x = df['Age'].mean()\n",
        "df[\"Age\"].fillna(x, inplace = True)\n",
        "# print(df)\n"
      ],
      "metadata": {
        "id": "EaoIVtKIFenB",
        "colab": {
          "base_uri": "https://localhost:8080/"
        },
        "outputId": "03c7479c-7208-44c2-ef2a-8ab1f758e66e"
      },
      "execution_count": null,
      "outputs": [
        {
          "output_type": "stream",
          "name": "stdout",
          "text": [
            "     Name  Age       City Country\n",
            "0  Ramesh   25  Bangalore   India\n",
            "1  Mahesh   30     Mumbai   India\n",
            "2  Suresh   35      Delhi   India\n"
          ]
        }
      ]
    },
    {
      "cell_type": "markdown",
      "source": [
        "# Matplotlib Implementation"
      ],
      "metadata": {
        "id": "uay3H4C8cboE"
      }
    },
    {
      "cell_type": "code",
      "source": [
        "import matplotlib.pyplot as plt\n",
        "import numpy as np\n",
        "\n",
        "xpoints=np.array([1,2,3,4])\n",
        "ypoints=np.array([2,4,6,8])\n",
        "\n",
        "#Plot these points without drawing a line\n",
        "#Your code here\n",
        "plt.plot(xpoints, ypoints, 'o')\n",
        "plt.show()\n",
        "\n",
        "#Plotting with marker: Plot these points with a marker(Star marker)\n",
        "#Your code here\n",
        "plt.plot(ypoints, '*')\n",
        "plt.show\n",
        "\n",
        "\n",
        "#Using fmt format, add circular marker,red color and Dashed line\n",
        "#Your code here\n",
        "\n",
        "plt.plot(ypoints, 'o:r')\n",
        "plt.show()\n",
        "\n",
        "#Add xlabel,ylabel and title for the plot.\n",
        "#Your code here\n",
        "plt.title(\"Straight Line Plot\")\n",
        "plt.xlabel(\"X-axis\")\n",
        "plt.ylabel(\"Y-axis\")\n",
        "\n",
        "#Create a scatter plot for xpoints and ypoints\n",
        "#Your code here\n",
        "plt.scatter(xpoints, ypoints)\n",
        "plt.show()\n",
        "#Set color to the scatter plot. Blue,Green,Red and yellow color for each point respectively\n",
        "colors = ['blue', 'green', 'red', 'yellow']\n",
        "plt.scatter(xpoints, ypoints, c=colors)\n",
        "plt.show()\n"
      ],
      "metadata": {
        "colab": {
          "base_uri": "https://localhost:8080/",
          "height": 1000
        },
        "id": "i4lccqVxcgE_",
        "outputId": "63d3ac7c-605d-4fe8-9504-d7883d54e723"
      },
      "execution_count": null,
      "outputs": [
        {
          "output_type": "display_data",
          "data": {
            "text/plain": [
              "<Figure size 640x480 with 1 Axes>"
            ],
            "image/png": "[encoded data removed]"
          },
          "metadata": {}
        },
        {
          "output_type": "display_data",
          "data": {
            "text/plain": [
              "<Figure size 640x480 with 1 Axes>"
            ],
            "image/png": "[encoded data removed]"
          },
          "metadata": {}
        },
        {
          "output_type": "display_data",
          "data": {
            "text/plain": [
              "<Figure size 640x480 with 1 Axes>"
            ],
            "image/png": "[encoded data removed]"
          },
          "metadata": {}
        },
        {
          "output_type": "display_data",
          "data": {
            "text/plain": [
              "<Figure size 640x480 with 1 Axes>"
            ],
            "image/png": "[encoded data removed]"
          },
          "metadata": {}
        }
      ]
    },
    {
      "cell_type": "markdown",
      "source": [
        "# Miscellaneous Modules Implementation"
      ],
      "metadata": {
        "id": "pfe2Fv2tgKq5"
      }
    },
    {
      "cell_type": "code",
      "source": [
        "import random\n",
        "import numpy as np\n",
        "\n",
        "#Set the seed of random to 20\n",
        "#Your code here\n",
        "random.seed(20)\n",
        "\n",
        "arr1=np.array([1,24,31,45,73,81,94,25])\n",
        "\n",
        "#Using the random module pick 4 different random numbers from arr1 and return their sum.\n",
        "#Your code here\n",
        "sum = 0\n",
        "for i in range(0,4):\n",
        "  sum = sum + arr1[random.randint(0,7)]\n",
        "print(sum)"
      ],
      "metadata": {
        "id": "a_bTz2PlgRah",
        "colab": {
          "base_uri": "https://localhost:8080/"
        },
        "outputId": "de4cad10-cbb4-476b-cc39-01686780ef3e"
      },
      "execution_count": null,
      "outputs": [
        {
          "output_type": "stream",
          "name": "stdout",
          "text": [
            "209\n"
          ]
        }
      ]
    }
  ]
}